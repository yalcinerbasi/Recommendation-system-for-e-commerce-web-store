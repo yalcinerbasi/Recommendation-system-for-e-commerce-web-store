{
 "cells": [
  {
   "cell_type": "code",
   "execution_count": 92,
   "id": "da124b02",
   "metadata": {},
   "outputs": [
    {
     "name": "stdout",
     "output_type": "stream",
     "text": [
      " * Serving Flask app '__main__' (lazy loading)\n",
      " * Environment: production\n",
      "\u001b[31m   WARNING: This is a development server. Do not use it in a production deployment.\u001b[0m\n",
      "\u001b[2m   Use a production WSGI server instead.\u001b[0m\n",
      " * Debug mode: off\n"
     ]
    },
    {
     "name": "stderr",
     "output_type": "stream",
     "text": [
      " * Running on http://127.0.0.1:5000/ (Press CTRL+C to quit)\n",
      "127.0.0.1 - - [08/Aug/2021 23:00:09] \"POST /login HTTP/1.1\" 302 -\n",
      "127.0.0.1 - - [08/Aug/2021 23:00:09] \"GET /api/ZYHPCOCACCOL016 HTTP/1.1\" 200 -\n"
     ]
    }
   ],
   "source": [
    "##Python Dependencies\n",
    "import pandas as pd\n",
    "import json\n",
    "import os\n",
    "from flask import Flask, redirect, url_for, request\n",
    "\n",
    "##Read Model Results\n",
    "os.chdir(\"./result_data/\")\n",
    "cos_sim_name = pd.read_csv(\"Cosine_Sim_Name.csv\",index_col=0)\n",
    "cos_sim_score = pd.read_csv(\"Cosine_Sim_Score.csv\",index_col=0)\n",
    "corr_name = pd.read_csv(\"Corr_Name.csv\",index_col=0)\n",
    "corr_score = pd.read_csv(\"Corr_Score.csv\",index_col=0)\n",
    "os.chdir(\"../\")\n",
    "\n",
    "##Read Product Data\n",
    "os.chdir(\"./data/data/\")\n",
    "meta_json = open(\"meta.json\",encoding=\"utf8\")\n",
    "meta = json.load(meta_json)\n",
    "df_meta = pd.json_normalize(meta[\"meta\"])\n",
    "df_meta = df_meta.set_index(\"productid\")\n",
    "os.chdir(\"../../\")\n",
    "\n",
    "##Define Flask Variable\n",
    "app = Flask(__name__)\n",
    "\n",
    "##Define endpoint to return results \n",
    "@app.route('/api/<name>')\n",
    "def api(name):\n",
    "    cos_product = cos_sim_name.loc[str(name),:].values.tolist()\n",
    "    cos_score = cos_sim_score.loc[str(name),:].values.tolist()\n",
    "    df_cos = df_meta.loc[cos_product]\n",
    "    df_cos[\"score\"] = cos_score\n",
    "    df_cos.index = df_cos.index.rename(\"Cosine Similarity\")\n",
    "    html_cos = df_cos.to_html(header=\"true\", table_id=\"table\")\n",
    "    \n",
    "    cor_product = corr_name.loc[str(name),:].values.tolist()\n",
    "    cor_score = corr_score.loc[str(name),:].values.tolist()\n",
    "    df_cor = df_meta.loc[cor_product]\n",
    "    df_cor[\"score\"] = cor_score\n",
    "    df_cor.index = df_cor.index.rename(\"Correlation\")\n",
    "    html_cor = df_cor.to_html(header=\"true\", table_id=\"table\")\n",
    "\n",
    "    return '{} \"\\n\\n\" {}'.format(html_cos, html_cor)\n",
    "\n",
    "##Add GET and POST request in the decorator\n",
    "@app.route('/login',methods = [ 'GET', 'POST'])\n",
    "def login():\n",
    "   if request.method == 'GET':\n",
    "      user = request.args.get('nm')\n",
    "      return redirect(url_for('api',name = user))\n",
    "   else:\n",
    "      user = request.form['nm']\n",
    "      return redirect(url_for('api',name = user))\n",
    "    \n",
    "##Run the flask variable\n",
    "if __name__ == '__main__':\n",
    "   app.run(debug = False)"
   ]
  },
  {
   "cell_type": "code",
   "execution_count": null,
   "id": "c59349f8",
   "metadata": {},
   "outputs": [],
   "source": []
  }
 ],
 "metadata": {
  "kernelspec": {
   "display_name": "Python 3",
   "language": "python",
   "name": "python3"
  },
  "language_info": {
   "codemirror_mode": {
    "name": "ipython",
    "version": 3
   },
   "file_extension": ".py",
   "mimetype": "text/x-python",
   "name": "python",
   "nbconvert_exporter": "python",
   "pygments_lexer": "ipython3",
   "version": "3.8.8"
  }
 },
 "nbformat": 4,
 "nbformat_minor": 5
}
